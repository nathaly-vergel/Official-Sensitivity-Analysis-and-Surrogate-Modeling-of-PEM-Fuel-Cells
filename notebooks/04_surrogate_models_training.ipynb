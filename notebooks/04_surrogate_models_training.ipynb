{
 "cells": [
  {
   "cell_type": "code",
   "execution_count": null,
   "id": "dd4e28ed",
   "metadata": {
    "tags": []
   },
   "outputs": [],
   "source": [
    "import os\n",
    "import sys\n",
    "from omegaconf import OmegaConf\n",
    "import numpy as np\n",
    "import pandas as pd\n",
    "\n",
    "\n",
    "# Adjust the path to point to external/AlphaPEM\n",
    "sys.path.append(os.path.abspath(os.path.join(os.getcwd(), '..')))\n",
    "from src.validity.validity_criteria import validate_polarization_curves\n",
    "from src.surrogate_models.surrogate_model_io import save_cv_results\n",
    "from src.FE.FE_formatting import expand_column_to_columns,parse_dependent_parameters,load_parameter_ranges\n",
    "from src.validity.surrogate_model_validation import ensure_numeric_dataframe\n",
    "from src.analysis.surrogate_models_training import nested_cv_train_with_groups,single_cv_train_with_groups"
   ]
  },
  {
   "cell_type": "markdown",
   "id": "50a38435",
   "metadata": {},
   "source": [
    "##  **Project overview**\n",
    "**Goal:** Train surrogate models (Random Forest / XGBoost) to predict PEM fuel cell polarization behavior, using grouped nested cross-validation for honest evaluation.\n",
    "\n",
    "**Outputs:** best hyperparameters, fold-wise metrics, saved models, and residual CSVs (per fold, with features) to analyze error patterns."
   ]
  },
  {
   "cell_type": "markdown",
   "id": "24c16dcc",
   "metadata": {},
   "source": [
    "### **Configs**\n",
    "To guarantee reproducibility, store your configuration files as versioned YAML.\n",
    "- grid_search_cfg: hyperparameter search space for each model..\n",
    "- core_training_cfg: core settings like number of CV splits, scoring, n_jobs, etc.\n",
    "- regions_cfg: numeric bounds for polarization regions.\n"
   ]
  },
  {
   "cell_type": "code",
   "execution_count": 13,
   "id": "1265420a",
   "metadata": {},
   "outputs": [],
   "source": [
    "# we load the configuration files\n",
    "grid_search = OmegaConf.load('../configs/grid_search_cfg.yaml')\n",
    "core_training = OmegaConf.load('../configs/core_training_cfg.yaml')\n",
    "regions = OmegaConf.load('../configs/regions_cfg.yaml')"
   ]
  },
  {
   "cell_type": "markdown",
   "id": "9221f025",
   "metadata": {},
   "source": [
    "### **Data & features** \n",
    "\n",
    "**Inputs:** a table of experiments/simulations. Columns = engineered features; target = response variable for the polarization curve.\n",
    "\n",
    "**Groups:** we group by SHA256 so that all rows from the same original sample stay together in either train or test during CV.\n",
    "\n",
    "**Assumption:** the last column of X is the current density. We use it to compute region masks (activation / ohmic / mass-transport) for region-wise metrics.\n",
    "\n",
    "If your last column changes, update the region mask code accordingly."
   ]
  },
  {
   "cell_type": "code",
   "execution_count": 16,
   "id": "12c3c696-6c71-4aac-af33-21ca5f906f30",
   "metadata": {
    "tags": []
   },
   "outputs": [
    {
     "data": {
      "text/plain": [
       "classification\n",
       "valid    56312\n",
       "Name: count, dtype: int64"
      ]
     },
     "execution_count": 16,
     "metadata": {},
     "output_type": "execute_result"
    }
   ],
   "source": [
    "sys.path.append(os.path.abspath(\"../external/AlphaPEM\"))\n",
    "data = pd.read_pickle(r\"../data/processed/validated_final_57344.pkl\")\n",
    "data = data[data['classification'] == 'valid']\n",
    "param_config,parameter_ranges, parameter_names= load_parameter_ranges('../configs/param_config.yaml')\n",
    "data[\"classification\"].value_counts()"
   ]
  },
  {
   "cell_type": "code",
   "execution_count": 17,
   "id": "dfe99ede-9a0a-4128-bd22-d13f86120d59",
   "metadata": {
    "tags": []
   },
   "outputs": [
    {
     "name": "stdout",
     "output_type": "stream",
     "text": [
      "54754\n"
     ]
    }
   ],
   "source": [
    "valid_criteria = OmegaConf.load('../configs/valid_polarization_curve_cfg.yaml')\n",
    "validated_df = validate_polarization_curves(\n",
    "    data,\n",
    "    apply_criteria=valid_criteria['criteria'],\n",
    "    filter_invalid=True,\n",
    "    voltage_range=valid_criteria['voltage_range'],\n",
    "    approx_monotonic_threshold=valid_criteria['approx_monotonic_threshold']\n",
    ")\n",
    "\n",
    "print(len(validated_df))  ## Should be 54754"
   ]
  },
  {
   "cell_type": "code",
   "execution_count": 18,
   "id": "bd8126f5",
   "metadata": {
    "tags": []
   },
   "outputs": [
    {
     "name": "stdout",
     "output_type": "stream",
     "text": [
      "\n",
      "Exploded DataFrame:\n",
      "155\n"
     ]
    },
    {
     "data": {
      "text/html": [
       "<div>\n",
       "<style scoped>\n",
       "    .dataframe tbody tr th:only-of-type {\n",
       "        vertical-align: middle;\n",
       "    }\n",
       "\n",
       "    .dataframe tbody tr th {\n",
       "        vertical-align: top;\n",
       "    }\n",
       "\n",
       "    .dataframe thead th {\n",
       "        text-align: right;\n",
       "    }\n",
       "</style>\n",
       "<table border=\"1\" class=\"dataframe\">\n",
       "  <thead>\n",
       "    <tr style=\"text-align: right;\">\n",
       "      <th></th>\n",
       "      <th>Tfc</th>\n",
       "      <th>Pa_des</th>\n",
       "      <th>Sc</th>\n",
       "      <th>Phi_c_des</th>\n",
       "      <th>epsilon_gdl</th>\n",
       "      <th>tau</th>\n",
       "      <th>epsilon_mc</th>\n",
       "      <th>epsilon_c</th>\n",
       "      <th>e</th>\n",
       "      <th>Re</th>\n",
       "      <th>i0_c_ref</th>\n",
       "      <th>kappa_co</th>\n",
       "      <th>kappa_c</th>\n",
       "      <th>Ucell</th>\n",
       "      <th>ifc</th>\n",
       "      <th>SHA256</th>\n",
       "    </tr>\n",
       "  </thead>\n",
       "  <tbody>\n",
       "    <tr>\n",
       "      <th>0</th>\n",
       "      <td>343.804109</td>\n",
       "      <td>214920.650007</td>\n",
       "      <td>2.431343</td>\n",
       "      <td>0.48481</td>\n",
       "      <td>0.731942</td>\n",
       "      <td>3.325909</td>\n",
       "      <td>0.289988</td>\n",
       "      <td>0.198927</td>\n",
       "      <td>5</td>\n",
       "      <td>0.000003</td>\n",
       "      <td>40.551519</td>\n",
       "      <td>33.053013</td>\n",
       "      <td>0.177528</td>\n",
       "      <td>0.971062</td>\n",
       "      <td>0.000813</td>\n",
       "      <td>f1bb7220e0a9e4d7ec051d321cbc53c20910f205e6f7fb...</td>\n",
       "    </tr>\n",
       "    <tr>\n",
       "      <th>1</th>\n",
       "      <td>343.804109</td>\n",
       "      <td>214920.650007</td>\n",
       "      <td>2.431343</td>\n",
       "      <td>0.48481</td>\n",
       "      <td>0.731942</td>\n",
       "      <td>3.325909</td>\n",
       "      <td>0.289988</td>\n",
       "      <td>0.198927</td>\n",
       "      <td>5</td>\n",
       "      <td>0.000003</td>\n",
       "      <td>40.551519</td>\n",
       "      <td>33.053013</td>\n",
       "      <td>0.177528</td>\n",
       "      <td>0.927253</td>\n",
       "      <td>0.100812</td>\n",
       "      <td>f1bb7220e0a9e4d7ec051d321cbc53c20910f205e6f7fb...</td>\n",
       "    </tr>\n",
       "    <tr>\n",
       "      <th>2</th>\n",
       "      <td>343.804109</td>\n",
       "      <td>214920.650007</td>\n",
       "      <td>2.431343</td>\n",
       "      <td>0.48481</td>\n",
       "      <td>0.731942</td>\n",
       "      <td>3.325909</td>\n",
       "      <td>0.289988</td>\n",
       "      <td>0.198927</td>\n",
       "      <td>5</td>\n",
       "      <td>0.000003</td>\n",
       "      <td>40.551519</td>\n",
       "      <td>33.053013</td>\n",
       "      <td>0.177528</td>\n",
       "      <td>0.8958</td>\n",
       "      <td>0.200812</td>\n",
       "      <td>f1bb7220e0a9e4d7ec051d321cbc53c20910f205e6f7fb...</td>\n",
       "    </tr>\n",
       "    <tr>\n",
       "      <th>3</th>\n",
       "      <td>343.804109</td>\n",
       "      <td>214920.650007</td>\n",
       "      <td>2.431343</td>\n",
       "      <td>0.48481</td>\n",
       "      <td>0.731942</td>\n",
       "      <td>3.325909</td>\n",
       "      <td>0.289988</td>\n",
       "      <td>0.198927</td>\n",
       "      <td>5</td>\n",
       "      <td>0.000003</td>\n",
       "      <td>40.551519</td>\n",
       "      <td>33.053013</td>\n",
       "      <td>0.177528</td>\n",
       "      <td>0.87028</td>\n",
       "      <td>0.300812</td>\n",
       "      <td>f1bb7220e0a9e4d7ec051d321cbc53c20910f205e6f7fb...</td>\n",
       "    </tr>\n",
       "    <tr>\n",
       "      <th>4</th>\n",
       "      <td>343.804109</td>\n",
       "      <td>214920.650007</td>\n",
       "      <td>2.431343</td>\n",
       "      <td>0.48481</td>\n",
       "      <td>0.731942</td>\n",
       "      <td>3.325909</td>\n",
       "      <td>0.289988</td>\n",
       "      <td>0.198927</td>\n",
       "      <td>5</td>\n",
       "      <td>0.000003</td>\n",
       "      <td>40.551519</td>\n",
       "      <td>33.053013</td>\n",
       "      <td>0.177528</td>\n",
       "      <td>0.848665</td>\n",
       "      <td>0.400812</td>\n",
       "      <td>f1bb7220e0a9e4d7ec051d321cbc53c20910f205e6f7fb...</td>\n",
       "    </tr>\n",
       "  </tbody>\n",
       "</table>\n",
       "</div>"
      ],
      "text/plain": [
       "          Tfc         Pa_des        Sc  Phi_c_des  epsilon_gdl       tau  \\\n",
       "0  343.804109  214920.650007  2.431343    0.48481     0.731942  3.325909   \n",
       "1  343.804109  214920.650007  2.431343    0.48481     0.731942  3.325909   \n",
       "2  343.804109  214920.650007  2.431343    0.48481     0.731942  3.325909   \n",
       "3  343.804109  214920.650007  2.431343    0.48481     0.731942  3.325909   \n",
       "4  343.804109  214920.650007  2.431343    0.48481     0.731942  3.325909   \n",
       "\n",
       "   epsilon_mc  epsilon_c  e        Re   i0_c_ref   kappa_co   kappa_c  \\\n",
       "0    0.289988   0.198927  5  0.000003  40.551519  33.053013  0.177528   \n",
       "1    0.289988   0.198927  5  0.000003  40.551519  33.053013  0.177528   \n",
       "2    0.289988   0.198927  5  0.000003  40.551519  33.053013  0.177528   \n",
       "3    0.289988   0.198927  5  0.000003  40.551519  33.053013  0.177528   \n",
       "4    0.289988   0.198927  5  0.000003  40.551519  33.053013  0.177528   \n",
       "\n",
       "      Ucell       ifc                                             SHA256  \n",
       "0  0.971062  0.000813  f1bb7220e0a9e4d7ec051d321cbc53c20910f205e6f7fb...  \n",
       "1  0.927253  0.100812  f1bb7220e0a9e4d7ec051d321cbc53c20910f205e6f7fb...  \n",
       "2    0.8958  0.200812  f1bb7220e0a9e4d7ec051d321cbc53c20910f205e6f7fb...  \n",
       "3   0.87028  0.300812  f1bb7220e0a9e4d7ec051d321cbc53c20910f205e6f7fb...  \n",
       "4  0.848665  0.400812  f1bb7220e0a9e4d7ec051d321cbc53c20910f205e6f7fb...  "
      ]
     },
     "execution_count": 18,
     "metadata": {},
     "output_type": "execute_result"
    }
   ],
   "source": [
    "columns = list(parameter_ranges.keys())\n",
    "columns.extend(['Ucell', 'ifc', 'SHA256'])\n",
    "\n",
    "n_configs = 5\n",
    "sampled_df = validated_df.sample(n=n_configs, random_state=42).reset_index(drop=True)\n",
    "\n",
    "# Explode both columns together\n",
    "df_exploded = sampled_df[columns].explode(['ifc', 'Ucell'], ignore_index=True)\n",
    "\n",
    "print(\"\\nExploded DataFrame:\")\n",
    "print(len(df_exploded))\n",
    "df_exploded.head()"
   ]
  },
  {
   "cell_type": "code",
   "execution_count": 19,
   "id": "52aebd4b",
   "metadata": {
    "tags": []
   },
   "outputs": [
    {
     "name": "stdout",
     "output_type": "stream",
     "text": [
      "[WARN] Found non-numeric columns: ['ifc']\n",
      "[INFO] Converted column 'ifc' to numeric.\n"
     ]
    }
   ],
   "source": [
    "# We just use records with Ucell >= 0\n",
    "df_exploded = df_exploded[df_exploded[\"Ucell\"] >= 0]\n",
    "\n",
    "X = df_exploded[list(parameter_ranges.keys()) + ['ifc']]\n",
    "X = ensure_numeric_dataframe(X)\n",
    "\n",
    "y = df_exploded['Ucell'].astype(float)"
   ]
  },
  {
   "cell_type": "markdown",
   "id": "865bd6bb-33db-41e1-b7d4-79624f3bb7cf",
   "metadata": {
    "tags": []
   },
   "source": [
    "## **XGBoost training**"
   ]
  },
  {
   "cell_type": "markdown",
   "id": "6cb0dc70",
   "metadata": {},
   "source": [
    "### **Cross-validation strategy** \n",
    "We use nested CV with groups to avoid optimistic bias from tuning and evaluating on the same data.\n",
    "\n",
    "- Outer CV (e.g., K folds): estimates generalization—never sees the inner loop.\n",
    "- Inner CV: tunes hyperparameters using only the outer-train split.\n",
    "- Grouping by SHA256: prevents leakage (no duplicate/related samples across train/test)."
   ]
  },
  {
   "cell_type": "code",
   "execution_count": 22,
   "id": "1980072d-f14c-4fdb-8b5c-0f66df9bd952",
   "metadata": {
    "tags": []
   },
   "outputs": [
    {
     "name": "stdout",
     "output_type": "stream",
     "text": [
      "[INFO] Running CV function: nested_cv_train_with_groups\n",
      "⚙️  Running nested CV with groups...\n",
      "[INFO] Model: xgboost\n",
      "[INFO] Samples: 155, Groups: 5\n",
      "[INFO] Outer Folds: 5, Inner Folds: 3\n",
      "[INFO] Hyperparameter grid: 72 combinations\n",
      "\n",
      "\n",
      "🔁 Fold 1/5\n",
      "[INFO] Fold 1 — R²: 0.4124, RMSE: 0.1392, MAE: 0.1384\n",
      "[INFO] Saved residuals and features to ../results/surrogate_models/residuals_by_fold\\residuals_fold_1_xgboost_20250815_222532.csv\n",
      "\n",
      "🔁 Fold 2/5\n",
      "[INFO] Fold 2 — R²: 0.1634, RMSE: 0.1063, MAE: 0.0967\n",
      "[INFO] Saved residuals and features to ../results/surrogate_models/residuals_by_fold\\residuals_fold_2_xgboost_20250815_222536.csv\n",
      "\n",
      "🔁 Fold 3/5\n",
      "[INFO] Fold 3 — R²: 0.9938, RMSE: 0.0119, MAE: 0.0086\n",
      "[INFO] Saved residuals and features to ../results/surrogate_models/residuals_by_fold\\residuals_fold_3_xgboost_20250815_222540.csv\n",
      "\n",
      "🔁 Fold 4/5\n",
      "[INFO] Fold 4 — R²: 0.6997, RMSE: 0.0886, MAE: 0.0750\n",
      "[INFO] Saved residuals and features to ../results/surrogate_models/residuals_by_fold\\residuals_fold_4_xgboost_20250815_222545.csv\n",
      "\n",
      "🔁 Fold 5/5\n",
      "[INFO] Fold 5 — R²: 0.8737, RMSE: 0.0781, MAE: 0.0617\n",
      "[INFO] Saved residuals and features to ../results/surrogate_models/residuals_by_fold\\residuals_fold_5_xgboost_20250815_222549.csv\n",
      "[INFO] Saved metrics to ../results/surrogate_models/xgboost\\test_xgboost_20250815_222549_metrics.json\n",
      "[INFO] Saved best hyperparameters to ../results/surrogate_models/xgboost\\test_xgboost_20250815_222549_best_params.json\n",
      "[INFO] Saved trained model to ../results/surrogate_models/xgboost\\test_xgboost_20250815_222549_final_model.pkl\n"
     ]
    }
   ],
   "source": [
    "model_xgb, best_params_xgb, metrics_xgb = save_cv_results(\n",
    "    X=X,\n",
    "    y=y,\n",
    "    groups=df_exploded['SHA256'],\n",
    "    model_name='xgboost',\n",
    "    cv_fn= nested_cv_train_with_groups,   # change for nested_cv_train_with_groups if outer cv is wanted\n",
    "    core_training_cfg = core_training,\n",
    "    grid_search_cfg= grid_search,\n",
    "    regions_cfg=regions,\n",
    "    run_name='test'\n",
    ")"
   ]
  },
  {
   "cell_type": "markdown",
   "id": "72948f5c-81d9-48a8-ab92-6f9084ceb820",
   "metadata": {
    "tags": []
   },
   "source": [
    "## **Random Forest**"
   ]
  },
  {
   "cell_type": "code",
   "execution_count": 23,
   "id": "8f4e9dc9-d556-4685-84df-70a6e56b031c",
   "metadata": {
    "tags": []
   },
   "outputs": [
    {
     "name": "stdout",
     "output_type": "stream",
     "text": [
      "\n",
      "Exploded DataFrame:\n",
      "155\n",
      "[WARN] Found non-numeric columns: ['ifc']\n",
      "[INFO] Converted column 'ifc' to numeric.\n"
     ]
    }
   ],
   "source": [
    "columns = list(parameter_ranges.keys())\n",
    "columns.extend(['Ucell', 'ifc', 'SHA256'])\n",
    "\n",
    "n_configs = 5\n",
    "sampled_df = validated_df.sample(n=n_configs, random_state=42).reset_index(drop=True)\n",
    "\n",
    "# Explode both columns together\n",
    "df_exploded = sampled_df[columns].explode(['ifc', 'Ucell'], ignore_index=True)\n",
    "\n",
    "print(\"\\nExploded DataFrame:\")\n",
    "print(len(df_exploded))\n",
    "\n",
    "\n",
    "df_exploded = df_exploded[df_exploded[\"Ucell\"] >= 0]\n",
    "\n",
    "X = df_exploded[list(parameter_ranges.keys()) + ['ifc']]\n",
    "X = ensure_numeric_dataframe(X)\n",
    "\n",
    "y = df_exploded['Ucell'].astype(float)"
   ]
  },
  {
   "cell_type": "code",
   "execution_count": 24,
   "id": "7b39bbbb-601a-43df-8595-f0281480c767",
   "metadata": {
    "tags": []
   },
   "outputs": [
    {
     "name": "stdout",
     "output_type": "stream",
     "text": [
      "[INFO] Running CV function: nested_cv_train_with_groups\n",
      "⚙️  Running nested CV with groups...\n",
      "[INFO] Model: rf\n",
      "[INFO] Samples: 155, Groups: 5\n",
      "[INFO] Outer Folds: 5, Inner Folds: 3\n",
      "[INFO] Hyperparameter grid: 27 combinations\n",
      "\n",
      "\n",
      "🔁 Fold 1/5\n",
      "[INFO] Fold 1 — R²: 0.2890, RMSE: 0.1531, MAE: 0.1512\n",
      "[INFO] Saved residuals and features to ../results/surrogate_models/residuals_by_fold\\residuals_fold_1_rf_20250815_222611.csv\n",
      "\n",
      "🔁 Fold 2/5\n",
      "[INFO] Fold 2 — R²: 0.0765, RMSE: 0.1117, MAE: 0.0995\n",
      "[INFO] Saved residuals and features to ../results/surrogate_models/residuals_by_fold\\residuals_fold_2_rf_20250815_222618.csv\n",
      "\n",
      "🔁 Fold 3/5\n",
      "[INFO] Fold 3 — R²: 0.9976, RMSE: 0.0074, MAE: 0.0058\n",
      "[INFO] Saved residuals and features to ../results/surrogate_models/residuals_by_fold\\residuals_fold_3_rf_20250815_222624.csv\n",
      "\n",
      "🔁 Fold 4/5\n",
      "[INFO] Fold 4 — R²: 0.9971, RMSE: 0.0088, MAE: 0.0069\n",
      "[INFO] Saved residuals and features to ../results/surrogate_models/residuals_by_fold\\residuals_fold_4_rf_20250815_222631.csv\n",
      "\n",
      "🔁 Fold 5/5\n",
      "[INFO] Fold 5 — R²: 0.8470, RMSE: 0.0860, MAE: 0.0710\n",
      "[INFO] Saved residuals and features to ../results/surrogate_models/residuals_by_fold\\residuals_fold_5_rf_20250815_222638.csv\n",
      "[INFO] Saved metrics to ../results/surrogate_models/rf\\rf_nconfig_5000_no_neg_with_outerCV_metrics_for_regions_rf_20250815_222638_metrics.json\n",
      "[INFO] Saved best hyperparameters to ../results/surrogate_models/rf\\rf_nconfig_5000_no_neg_with_outerCV_metrics_for_regions_rf_20250815_222638_best_params.json\n",
      "[INFO] Saved trained model to ../results/surrogate_models/rf\\rf_nconfig_5000_no_neg_with_outerCV_metrics_for_regions_rf_20250815_222638_final_model.pkl\n"
     ]
    }
   ],
   "source": [
    "model_rf, best_params_rf, metrics_rf = save_cv_results(\n",
    "    X=X,\n",
    "    y=y,\n",
    "    groups=df_exploded['SHA256'],\n",
    "    model_name='rf',\n",
    "    cv_fn= nested_cv_train_with_groups,   # change for nested_cv_train_with_groups if outer cv is wanted\n",
    "    core_training_cfg = core_training,\n",
    "    grid_search_cfg= grid_search,\n",
    "    regions_cfg= regions,\n",
    "    run_name='rf_nconfig_5000_no_neg_with_outerCV_metrics_for_regions'\n",
    ")"
   ]
  }
 ],
 "metadata": {
  "environment": {
   "kernel": "venv",
   "name": "workbench-notebooks.m130",
   "type": "gcloud",
   "uri": "us-docker.pkg.dev/deeplearning-platform-release/gcr.io/workbench-notebooks:m130"
  },
  "kernelspec": {
   "display_name": ".env",
   "language": "python",
   "name": "python3"
  },
  "language_info": {
   "codemirror_mode": {
    "name": "ipython",
    "version": 3
   },
   "file_extension": ".py",
   "mimetype": "text/x-python",
   "name": "python",
   "nbconvert_exporter": "python",
   "pygments_lexer": "ipython3",
   "version": "3.11.3"
  }
 },
 "nbformat": 4,
 "nbformat_minor": 5
}
